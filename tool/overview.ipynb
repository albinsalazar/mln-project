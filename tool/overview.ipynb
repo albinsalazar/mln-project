{
 "cells": [
  {
   "cell_type": "markdown",
   "id": "7b75854a-6d29-4a1f-a584-42c12e87fa69",
   "metadata": {},
   "source": [
    "# Tool overview\n",
    "\n",
    "The tool is designed alongside the formal language for modelling multilayer networks.\n",
    "\n",
    "The aim of the tool is to provide an easy way of visualising and analysing the modelled network, as well as simulating using a variety of options based on established methods such as Gillespie and Kappa. Implementation of additional features (e.g. model reduction techniques, etc.) is also planned.\n",
    "\n",
    "Furthermore, the tool will have a number of domain-specific case studies included out-of-the-box, serving as a demonstration of the capabilities of the modelling language and the tool itself."
   ]
  },
  {
   "cell_type": "markdown",
   "id": "3d4cf543-94ed-4747-9a70-52cbe45a06aa",
   "metadata": {},
   "source": [
    "<img src=\"images/overview-tool.png\"> ![](images/overview-tool.png)"
   ]
  },
  {
   "cell_type": "markdown",
   "id": "7471afb9-a5b0-4b07-b5fb-f5689f64d178",
   "metadata": {},
   "source": [
    "In this overview, we will examine a simple 3-node, 2-layer network which aims to describe the spreading process of an epidemic. One layer represents the physical interactions between nodes, the other - virtual interactions (e.g. dissimenation of information on a social network). Infection is possible in the physical layer, whereas infection awareness travels in the virtual layer. A node that was made *aware* in the virtual layer is less likely to become *infected* in the physical layer."
   ]
  },
  {
   "cell_type": "markdown",
   "id": "515afe38-2362-4ea2-b899-8b1327342e73",
   "metadata": {},
   "source": [
    "<img src=\"images/overview-example-network.png\">"
   ]
  },
  {
   "cell_type": "markdown",
   "id": "4825e60d-b682-4d93-b7ee-f515147f7461",
   "metadata": {},
   "source": [
    "## Input files\n",
    "\n",
    "In its current implementation, the tool expects a pair of files as input: a **.txt** file containing the edge definitions of the network, and an **.mln** file containing the formal definition of the model.\n",
    "\n",
    "The network model described in the figure above would have the following edge definitions (start node, end node, layer):"
   ]
  },
  {
   "cell_type": "markdown",
   "id": "017ba10b-70a9-4214-925d-d189e5cd0663",
   "metadata": {},
   "source": [
    "**network.txt**\n",
    "```\n",
    "1,2,1\n",
    "1,3,1\n",
    "1,2,2\n",
    "1,3,2\n",
    "2,3,2\n",
    "```"
   ]
  },
  {
   "cell_type": "markdown",
   "id": "d0fed37a-992b-4bf5-86da-c639d9f3d76c",
   "metadata": {},
   "source": [
    "The second input file contains the model definition, including possible states, parameters and rates, interaction rules, initial conditions, and other additional options.\n",
    "\n",
    "The differentiating factor of the language is the ability to describe intra- and inter-layer rules. We can then specify interaction rules for each layer.\n",
    "\n",
    "In our case, we would like to begin with a single *infected* node and two *unaware susceptible* nodes. We would also like to observe the simulation results for all three states, with $n = 1000$ iterations.\n",
    "\n",
    "Taking the above into account, the model definition file is then:"
   ]
  },
  {
   "cell_type": "markdown",
   "id": "f9d69a72-49d8-4177-b25a-841876f7efdc",
   "metadata": {},
   "source": [
    "**language.mln**\n",
    "```\n",
    "begin states\n",
    "AS\n",
    "AI\n",
    "US\n",
    "end states\n",
    "\n",
    "begin parameters\n",
    "delta = 1\n",
    "mu = 1\n",
    "betaA = 1\n",
    "betaU = 3\n",
    "lamb = 1\n",
    "end parameters\n",
    "\n",
    "begin initial conditions\n",
    "1 = AI\n",
    "2 = US\n",
    "3 = US\n",
    "end initial conditions\n",
    "\n",
    "begin rules\n",
    "AS -> US @ delta\n",
    "AI -> AS @ mu\n",
    "AS =1 AI -> AI =1 AI @ betaA\n",
    "US =1 AI -> AI =1 AI @ betaU\n",
    "US =2 AI -> AS =2 AI @ lamb\n",
    "US =2 AS -> AS =2 AS @ lamb\n",
    "end rules\n",
    "\n",
    "begin views\n",
    "AI\n",
    "AS\n",
    "US\n",
    "end views\n",
    "\n",
    "begin simOptions\n",
    "n = 1000\n",
    "t = 30\n",
    "end simOptions\n",
    "```"
   ]
  },
  {
   "cell_type": "markdown",
   "id": "7bdd68a7-ce44-4b45-a0a4-1405bb1065d9",
   "metadata": {},
   "source": [
    "## Network visualisation"
   ]
  },
  {
   "cell_type": "markdown",
   "id": "536b99e1-f330-476c-9685-3b4046b9e785",
   "metadata": {},
   "source": [
    "Using the [**uunet**](http://multilayer.it.uu.se/software.html) Python library, we are able to visualise the specified network, including its layers. The current implementation provides a simple mono-colour graphic, though the visualisation capabilities of the package are quite extensive and will be further integrated within the tool.\n",
    "\n",
    "Our simple example network then looks like this:"
   ]
  },
  {
   "cell_type": "markdown",
   "id": "7eecff7f-e9a4-4b59-b403-76f0778b3957",
   "metadata": {},
   "source": [
    "<img src=\"images/overview-visualisation.png\">"
   ]
  },
  {
   "cell_type": "markdown",
   "id": "d0c1fd9a-3530-4299-b219-c10599fc9c24",
   "metadata": {},
   "source": [
    "## Simulation"
   ]
  },
  {
   "cell_type": "markdown",
   "id": "5e1e2c80-d8d4-4dc5-a965-b3767c2d0899",
   "metadata": {},
   "source": [
    "Options to export the model configuration to Gillespie CRN and Kappa rule-based languages are implemented. Simulation using the former is available within the tool. Currently, the generated Kappa file needs to be run manually, though integration of the simulation into the tool is planned.\n",
    "\n",
    "For our example network, the Gillespie simulation yields the following graph with corresponding observables that we specified in the configuration file:"
   ]
  },
  {
   "cell_type": "markdown",
   "id": "50ba8ad0-052f-43c6-a9d4-633c285e57d6",
   "metadata": {},
   "source": [
    "<img src=\"images/gillespie-toy-example-1000.png\">"
   ]
  },
  {
   "cell_type": "markdown",
   "id": "4d51bf10-a6b4-45f3-93f1-a7790a1a0e90",
   "metadata": {},
   "source": [
    "The Kappa simulation, currently run manually, results in the below graph:"
   ]
  },
  {
   "cell_type": "markdown",
   "id": "20b5f820-7783-4499-b6c0-cb0aebbbb3c4",
   "metadata": {},
   "source": [
    "<img src=\"images/kappa-toy-example-1000.png\">"
   ]
  },
  {
   "cell_type": "markdown",
   "id": "65c49b59-c9be-4a46-a4fe-0f5bbceea799",
   "metadata": {},
   "source": [
    "The tool can be run using the below command:"
   ]
  },
  {
   "cell_type": "code",
   "execution_count": null,
   "id": "dc5ff404-63cc-4caa-85a5-6d2ba94c6d34",
   "metadata": {},
   "outputs": [],
   "source": [
    "!python main.py"
   ]
  }
 ],
 "metadata": {
  "kernelspec": {
   "display_name": "py39",
   "language": "python",
   "name": "py39"
  },
  "language_info": {
   "codemirror_mode": {
    "name": "ipython",
    "version": 3
   },
   "file_extension": ".py",
   "mimetype": "text/x-python",
   "name": "python",
   "nbconvert_exporter": "python",
   "pygments_lexer": "ipython3",
   "version": "3.9.5"
  }
 },
 "nbformat": 4,
 "nbformat_minor": 5
}
