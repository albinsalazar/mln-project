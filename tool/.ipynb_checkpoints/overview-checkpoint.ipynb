{
 "cells": [
  {
   "cell_type": "markdown",
   "id": "7b75854a-6d29-4a1f-a584-42c12e87fa69",
   "metadata": {},
   "source": [
    "# Tool overview\n",
    "\n",
    "The tool is designed alongside the formal language for modelling multilayer networks (MLN language). The aim of the tool is to provide an easy way of visualising and analysing the modelled network, as well as simulation options using various established methods such as Gillespie and Kappa. Implementation of additional features (e.g. model reduction techniques, etc.) is also planned.\n",
    "\n",
    "Furthermore, the tool will have a number of domain-specific case studies included out-of-the-box, serving as a demonstration of the capabilities of the MLN language and the tool itself."
   ]
  },
  {
   "cell_type": "markdown",
   "id": "7f5afcc6-0c15-454a-bc7d-5069400b85cf",
   "metadata": {},
   "source": [
    "![alt text](images/main-tool.png)"
   ]
  },
  {
   "cell_type": "markdown",
   "id": "be7d19d9-6d17-447f-a1e7-1843dad6e5af",
   "metadata": {
    "tags": []
   },
   "source": [
    "## The MLN language"
   ]
  },
  {
   "cell_type": "markdown",
   "id": "4825e60d-b682-4d93-b7ee-f515147f7461",
   "metadata": {},
   "source": [
    "## Input files\n",
    "\n",
    "In its current implementation, the tool takes as input a pair of text files: a **.txt** file containing the edge definitions of the network, and a **.mln** file containing the MLN language formulation of the model."
   ]
  },
  {
   "cell_type": "markdown",
   "id": "017ba10b-70a9-4214-925d-d189e5cd0663",
   "metadata": {},
   "source": [
    "**network.txt**\n",
    "```\n",
    "1,2,1\n",
    "1,3,1\n",
    "1,2,2\n",
    "1,3,2\n",
    "2,3,2\n",
    "```"
   ]
  },
  {
   "cell_type": "markdown",
   "id": "f9d69a72-49d8-4177-b25a-841876f7efdc",
   "metadata": {},
   "source": [
    "**language.mln**\n",
    "```\n",
    "begin states\n",
    "AS\n",
    "AI\n",
    "US\n",
    "end states\n",
    "\n",
    "begin parameters\n",
    "delta = 1\n",
    "mu = 1\n",
    "betaA = 1\n",
    "betaU = 3\n",
    "lamb = 1\n",
    "end parameters\n",
    "\n",
    "begin initial conditions\n",
    "1 = AI\n",
    "2 = US\n",
    "3 = US\n",
    "end initial conditions\n",
    "\n",
    "begin rules\n",
    "AS -> US @ delta\n",
    "AI -> AS @ mu\n",
    "AS =1 AI -> AI =1 AI @ betaA\n",
    "US =1 AI -> AI =1 AI @ betaU\n",
    "US =2 AI -> AS =2 AI @ lamb\n",
    "US =2 AS -> AS =2 AS @ lamb\n",
    "end rules\n",
    "\n",
    "begin views\n",
    "AI\n",
    "AS\n",
    "US\n",
    "end views\n",
    "\n",
    "begin simOptions\n",
    "n = 1000\n",
    "t = 30\n",
    "end simOptions\n",
    "```"
   ]
  },
  {
   "cell_type": "markdown",
   "id": "7bdd68a7-ce44-4b45-a0a4-1405bb1065d9",
   "metadata": {},
   "source": [
    "## Network visualisation"
   ]
  },
  {
   "cell_type": "markdown",
   "id": "536b99e1-f330-476c-9685-3b4046b9e785",
   "metadata": {},
   "source": [
    "Using the **uunet** Python library, we are able to visualise the specified network, including its layers. The current implementation provides a simple mono-colour graphic, though the visualisation capabilities of the package are quite vast and will be further integrated within the tool."
   ]
  },
  {
   "cell_type": "markdown",
   "id": "befe82aa-f845-45a3-8c51-dc8f7db9c74b",
   "metadata": {},
   "source": [
    "![alt text](images/visualisation-demo.png)"
   ]
  },
  {
   "cell_type": "markdown",
   "id": "d0c1fd9a-3530-4299-b219-c10599fc9c24",
   "metadata": {},
   "source": [
    "## Simulation"
   ]
  },
  {
   "cell_type": "markdown",
   "id": "5e1e2c80-d8d4-4dc5-a965-b3767c2d0899",
   "metadata": {},
   "source": [
    "Options to export the model configuration to Gillespie CRN and Kappa rule-based languages are implemented. Simulation using the former is available within the tool. The generated Kappa file needs to be processed manually, though it is possible to integrate its simulation into the tool using the Kappy Python library."
   ]
  },
  {
   "cell_type": "code",
   "execution_count": 7,
   "id": "f12dff18-2525-4232-883a-a12a717fad12",
   "metadata": {},
   "outputs": [
    {
     "name": "stdout",
     "output_type": "stream",
     "text": [
      "Parsing network configuration file network-new.txt\n",
      "Parsing MLN language file new-example.mln\n"
     ]
    }
   ],
   "source": [
    "!python main.py"
   ]
  },
  {
   "cell_type": "code",
   "execution_count": null,
   "id": "2d9b2b67-6600-4bf7-8bd6-1f45ae339877",
   "metadata": {},
   "outputs": [],
   "source": []
  }
 ],
 "metadata": {
  "kernelspec": {
   "display_name": "py39",
   "language": "python",
   "name": "py39"
  },
  "language_info": {
   "codemirror_mode": {
    "name": "ipython",
    "version": 3
   },
   "file_extension": ".py",
   "mimetype": "text/x-python",
   "name": "python",
   "nbconvert_exporter": "python",
   "pygments_lexer": "ipython3",
   "version": "3.9.5"
  }
 },
 "nbformat": 4,
 "nbformat_minor": 5
}
