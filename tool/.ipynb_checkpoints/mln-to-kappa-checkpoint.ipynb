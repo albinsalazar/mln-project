{
 "cells": [
  {
   "cell_type": "code",
   "execution_count": 2,
   "id": "fc7ab34c-2e2d-4f25-9fff-f0cc08443ccc",
   "metadata": {},
   "outputs": [],
   "source": [
    "import parser"
   ]
  },
  {
   "cell_type": "code",
   "execution_count": 3,
   "id": "530589bb-f798-4484-961e-5a4ecd90caf5",
   "metadata": {},
   "outputs": [
    {
     "name": "stdout",
     "output_type": "stream",
     "text": [
      "From parser, mln filename:network.txt\n"
     ]
    }
   ],
   "source": [
    "mln_data = parser.parse_mln('network.txt')"
   ]
  },
  {
   "cell_type": "code",
   "execution_count": 4,
   "id": "eb30124b-6a64-4ad3-a291-ff8424617da8",
   "metadata": {},
   "outputs": [],
   "source": [
    "from pprint import pprint"
   ]
  },
  {
   "cell_type": "code",
   "execution_count": 5,
   "id": "8ffe809d-8374-42f5-bfff-0d7c1a52c58f",
   "metadata": {},
   "outputs": [
    {
     "name": "stdout",
     "output_type": "stream",
     "text": [
      "{'actors': (['1', '2', '3'], 3),\n",
      " 'edges': ({'dir': [False, False, False, False, False],\n",
      "            'from_actor': ['1', '1', '1', '1', '2'],\n",
      "            'from_layer': ['1', '1', '2', '2', '2'],\n",
      "            'to_actor': ['2', '3', '2', '3', '3'],\n",
      "            'to_layer': ['1', '1', '2', '2', '2']},\n",
      "           [[('1', '2'), ('2', '1'), ('1', '3'), ('3', '1')],\n",
      "            [('1', '2'),\n",
      "             ('2', '1'),\n",
      "             ('1', '3'),\n",
      "             ('3', '1'),\n",
      "             ('2', '3'),\n",
      "             ('3', '2')]]),\n",
      " 'layers': (['1', '2'], 2)}\n"
     ]
    }
   ],
   "source": [
    "pprint(mln_data)"
   ]
  },
  {
   "cell_type": "code",
   "execution_count": 18,
   "id": "243caac0-38f4-47d2-8db2-8d394322995a",
   "metadata": {},
   "outputs": [],
   "source": [
    "language_file = open('toy-example.mln', 'r')"
   ]
  },
  {
   "cell_type": "code",
   "execution_count": 19,
   "id": "7e1aa4ce-f63c-46e9-8a8d-b5f54656097c",
   "metadata": {},
   "outputs": [],
   "source": [
    "language_file = language_file.readlines()"
   ]
  },
  {
   "cell_type": "code",
   "execution_count": 40,
   "id": "8d285018-d128-407a-80df-9ef69840a0bb",
   "metadata": {},
   "outputs": [],
   "source": [
    "language = {\n",
    "    'states': [],\n",
    "    'parameters': [],\n",
    "    'initial conditions': [],\n",
    "    'rules': [],\n",
    "    'views': [],\n",
    "    'simOptions': []\n",
    "}"
   ]
  },
  {
   "cell_type": "code",
   "execution_count": 41,
   "id": "4cbae9f6-02f2-48d1-9a6c-16cd6e6fa4a6",
   "metadata": {},
   "outputs": [],
   "source": [
    "saving_lines = False\n",
    "key = ''\n",
    "for line in language_file:\n",
    "    if 'begin' in line:\n",
    "        saving_lines = True\n",
    "        l = line.split()[1:]\n",
    "        if len(l) > 1:\n",
    "            l = ' '.join(l)\n",
    "        else:\n",
    "            l = l[0]\n",
    "        key = l\n",
    "    elif 'end' in line:\n",
    "        saving_lines = False\n",
    "        \n",
    "    if saving_lines and 'begin' not in line:\n",
    "        language[key].append(line)"
   ]
  },
  {
   "cell_type": "code",
   "execution_count": 42,
   "id": "3c07739b-5b3e-4d44-9570-2f0406034e0c",
   "metadata": {},
   "outputs": [
    {
     "name": "stdout",
     "output_type": "stream",
     "text": [
      "{'initial conditions': ['1 = AI', '2 = US', '3 = US'],\n",
      " 'parameters': ['delta = 1', 'mu = 1', 'betaA = 1', 'betaU = 3', 'lamb = 1'],\n",
      " 'rules': ['AS -> US @ delta',\n",
      "           'AI -> AS @ mu',\n",
      "           'AS =1 AI -> AI =1 AI @ betaA',\n",
      "           'US =1 AI -> AI =1 AI @ betaU',\n",
      "           'US =2 AI -> AS =2 AI @ lamb',\n",
      "           'US =2 AS -> AS =2 AS @ lamb'],\n",
      " 'simOptions': ['n = 1000', 't = 30'],\n",
      " 'states': ['AS', 'AI', 'US'],\n",
      " 'views': ['AI', 'AS', 'US']}\n"
     ]
    }
   ],
   "source": [
    "pprint(language)"
   ]
  },
  {
   "cell_type": "code",
   "execution_count": 43,
   "id": "741ad408-94e3-4a0a-a0e4-10a9b16d225b",
   "metadata": {},
   "outputs": [
    {
     "name": "stdout",
     "output_type": "stream",
     "text": [
      "{'actors': (['1', '2', '3'], 3),\n",
      " 'edges': ({'dir': [False, False, False, False, False],\n",
      "            'from_actor': ['1', '1', '1', '1', '2'],\n",
      "            'from_layer': ['1', '1', '2', '2', '2'],\n",
      "            'to_actor': ['2', '3', '2', '3', '3'],\n",
      "            'to_layer': ['1', '1', '2', '2', '2']},\n",
      "           [[('1', '2'), ('2', '1'), ('1', '3'), ('3', '1')],\n",
      "            [('1', '2'),\n",
      "             ('2', '1'),\n",
      "             ('1', '3'),\n",
      "             ('3', '1'),\n",
      "             ('2', '3'),\n",
      "             ('3', '2')]]),\n",
      " 'layers': (['1', '2'], 2)}\n"
     ]
    }
   ],
   "source": [
    "pprint(mln_data)"
   ]
  },
  {
   "cell_type": "code",
   "execution_count": 96,
   "id": "95cd62bf-c6e6-407f-ab34-b0c9c8c9ed4e",
   "metadata": {},
   "outputs": [],
   "source": [
    "def parse_signatures(mln_data, language):\n",
    "    signatures = ['/* Signatures */']\n",
    "    states = []\n",
    "    for state in language['states']:\n",
    "        states.append(state)\n",
    "    states = '{' + ', '.join(states) + '}'\n",
    "\n",
    "    for i, actor in enumerate(mln_data['actors'][0]):\n",
    "        sites = []\n",
    "        for j, layer in enumerate(mln_data['edges'][1]):\n",
    "            for edge in layer:\n",
    "                if edge[0] == str(i+1):\n",
    "                    sites.append(f'l{j+1}v{edge[1]}')\n",
    "        sites = ', '.join(sites)\n",
    "                                 \n",
    "        kappa_signature = f'%agent: V{i+1}(state{states}, {sites})'\n",
    "        signatures.append(kappa_signature)\n",
    "        \n",
    "    signatures = '\\n'.join(signatures)\n",
    "    \n",
    "    return signatures"
   ]
  },
  {
   "cell_type": "code",
   "execution_count": 97,
   "id": "1cd4aa59-11bf-46fb-9b00-fcba12b95e52",
   "metadata": {},
   "outputs": [
    {
     "name": "stdout",
     "output_type": "stream",
     "text": [
      "/* Signatures */\n",
      "%agent: V1(state{AS, AI, US}, l1v2, l1v3, l2v2, l2v3)\n",
      "%agent: V2(state{AS, AI, US}, l1v1, l2v1, l2v3)\n",
      "%agent: V3(state{AS, AI, US}, l1v1, l2v1, l2v2)\n"
     ]
    }
   ],
   "source": [
    "print(parse_signatures(mln_data, language))"
   ]
  },
  {
   "cell_type": "code",
   "execution_count": 94,
   "id": "78567761-4f7d-4f22-9496-31b8432a0161",
   "metadata": {},
   "outputs": [],
   "source": [
    "def parse_variables(language):\n",
    "    variables = ['/* Variables */']\n",
    "    for param in language['parameters']:\n",
    "        var_name, var_value = param.split('=')\n",
    "        var = f\"%var: '{var_name.strip()}' {var_value.strip()}\"\n",
    "        variables.append(var)\n",
    "    variables = '\\n'.join(variables)\n",
    "    \n",
    "    return variables"
   ]
  },
  {
   "cell_type": "code",
   "execution_count": 95,
   "id": "03a5c43d-932b-412b-a175-7a26149a7f8d",
   "metadata": {},
   "outputs": [
    {
     "name": "stdout",
     "output_type": "stream",
     "text": [
      "/* Variables */\n",
      "%var: 'delta' 1\n",
      "%var: 'mu' 1\n",
      "%var: 'betaA' 1\n",
      "%var: 'betaU' 3\n",
      "%var: 'lamb' 1\n"
     ]
    }
   ],
   "source": [
    "print(parse_variables(language))"
   ]
  },
  {
   "cell_type": "code",
   "execution_count": null,
   "id": "f313abcf-3b4c-4f7b-bd9e-bcc457ffad1a",
   "metadata": {},
   "outputs": [],
   "source": []
  },
  {
   "cell_type": "code",
   "execution_count": 8,
   "id": "9958d1a9-be94-4918-b13a-d49a5cb50234",
   "metadata": {},
   "outputs": [],
   "source": [
    "edges = mln_data['edges'][1]"
   ]
  },
  {
   "cell_type": "code",
   "execution_count": null,
   "id": "6bd0a14a-7efd-4f02-b036-c0db8aa48a8e",
   "metadata": {},
   "outputs": [],
   "source": []
  },
  {
   "cell_type": "code",
   "execution_count": null,
   "id": "e85a810f-a63c-4ca8-b199-64e93fd2e423",
   "metadata": {},
   "outputs": [],
   "source": []
  },
  {
   "cell_type": "code",
   "execution_count": null,
   "id": "92d1acaa-4727-47fc-93f9-6caff31136d9",
   "metadata": {},
   "outputs": [],
   "source": []
  },
  {
   "cell_type": "code",
   "execution_count": null,
   "id": "aee5b3f9-5d4f-4f66-a9fb-c9c365e6f564",
   "metadata": {},
   "outputs": [],
   "source": []
  },
  {
   "cell_type": "code",
   "execution_count": 15,
   "id": "2419ff72-04ca-4af8-bbcb-0e136827e004",
   "metadata": {},
   "outputs": [],
   "source": [
    "parsed_edges = []"
   ]
  },
  {
   "cell_type": "code",
   "execution_count": 16,
   "id": "07d1ecfc-e2a3-472b-a0c2-460a802fe7e7",
   "metadata": {},
   "outputs": [
    {
     "name": "stdout",
     "output_type": "stream",
     "text": [
      "l1v1[112], l1v2[112]\n",
      "l1v2[121], l1v1[121]\n",
      "l1v1[113], l1v3[113]\n",
      "l1v3[131], l1v1[131]\n",
      "l2v1[212], l2v2[212]\n",
      "l2v2[221], l2v1[221]\n",
      "l2v1[213], l2v3[213]\n",
      "l2v3[231], l2v1[231]\n",
      "l2v2[223], l2v3[223]\n",
      "l2v3[232], l2v2[232]\n"
     ]
    }
   ],
   "source": [
    "for i, layer in enumerate(edges):\n",
    "    for edge in layer:\n",
    "        parsed_edge = f'l{i+1}v{edge[0]}[{i+1}{edge[0]}{edge[1]}], l{i+1}v{edge[1]}[{i+1}{edge[0]}{edge[1]}]'\n",
    "        print(parsed_edge)\n",
    "        parsed_edges.append(parsed_edge)"
   ]
  },
  {
   "cell_type": "code",
   "execution_count": 17,
   "id": "2a5c7b01-adf6-4f96-8443-235325895117",
   "metadata": {},
   "outputs": [
    {
     "data": {
      "text/plain": [
       "['l1v1[112], l1v2[112]',\n",
       " 'l1v2[121], l1v1[121]',\n",
       " 'l1v1[113], l1v3[113]',\n",
       " 'l1v3[131], l1v1[131]',\n",
       " 'l2v1[212], l2v2[212]',\n",
       " 'l2v2[221], l2v1[221]',\n",
       " 'l2v1[213], l2v3[213]',\n",
       " 'l2v3[231], l2v1[231]',\n",
       " 'l2v2[223], l2v3[223]',\n",
       " 'l2v3[232], l2v2[232]']"
      ]
     },
     "execution_count": 17,
     "metadata": {},
     "output_type": "execute_result"
    }
   ],
   "source": [
    "parsed_edges"
   ]
  },
  {
   "cell_type": "code",
   "execution_count": null,
   "id": "b4ce787e-ba69-4324-b199-bf01c22ec6a8",
   "metadata": {},
   "outputs": [],
   "source": []
  }
 ],
 "metadata": {
  "kernelspec": {
   "display_name": "py39",
   "language": "python",
   "name": "py39"
  },
  "language_info": {
   "codemirror_mode": {
    "name": "ipython",
    "version": 3
   },
   "file_extension": ".py",
   "mimetype": "text/x-python",
   "name": "python",
   "nbconvert_exporter": "python",
   "pygments_lexer": "ipython3",
   "version": "3.9.5"
  }
 },
 "nbformat": 4,
 "nbformat_minor": 5
}
