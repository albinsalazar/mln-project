{
 "cells": [
  {
   "cell_type": "code",
   "execution_count": 2,
   "id": "3a8c3091-b495-44d5-bbde-6120fd5bc9a2",
   "metadata": {},
   "outputs": [
    {
     "data": {
      "text/plain": [
       "<module 'parser' from '/Users/ivanprigarin/Library/Mobile Documents/com~apple~CloudDocs/cloud-files/1_study/cluster/code/mln-project/tool/parser.py'>"
      ]
     },
     "execution_count": 2,
     "metadata": {},
     "output_type": "execute_result"
    }
   ],
   "source": [
    "# Re-run this cell whenever parser.py is changed\n",
    "import importlib\n",
    "importlib.reload(parser)"
   ]
  },
  {
   "cell_type": "code",
   "execution_count": 1,
   "id": "fc7ab34c-2e2d-4f25-9fff-f0cc08443ccc",
   "metadata": {},
   "outputs": [],
   "source": [
    "import parser\n",
    "from pprint import pprint"
   ]
  },
  {
   "cell_type": "code",
   "execution_count": 3,
   "id": "530589bb-f798-4484-961e-5a4ecd90caf5",
   "metadata": {},
   "outputs": [
    {
     "name": "stdout",
     "output_type": "stream",
     "text": [
      "Parsing network configuration file network.txt\n",
      "{'actors': (['1', '2', '3'], 3),\n",
      " 'edges': ({'dir': [False, False, False, False, False],\n",
      "            'from_actor': ['1', '1', '1', '1', '2'],\n",
      "            'from_layer': ['1', '1', '2', '2', '2'],\n",
      "            'to_actor': ['2', '3', '2', '3', '3'],\n",
      "            'to_layer': ['1', '1', '2', '2', '2']},\n",
      "           [[('1', '2'), ('2', '1'), ('1', '3'), ('3', '1')],\n",
      "            [('1', '2'),\n",
      "             ('2', '1'),\n",
      "             ('1', '3'),\n",
      "             ('3', '1'),\n",
      "             ('2', '3'),\n",
      "             ('3', '2')]]),\n",
      " 'layers': (['1', '2'], 2)}\n"
     ]
    }
   ],
   "source": [
    "mln_data = parser.parse_mln('network.txt')\n",
    "pprint(mln_data)"
   ]
  },
  {
   "cell_type": "code",
   "execution_count": 4,
   "id": "4cbae9f6-02f2-48d1-9a6c-16cd6e6fa4a6",
   "metadata": {},
   "outputs": [
    {
     "name": "stdout",
     "output_type": "stream",
     "text": [
      "Parsing MLN language file toy-example.mln\n",
      "{'initial conditions': ['1 = AI', '2 = US', '3 = US'],\n",
      " 'parameters': ['delta = 1', 'mu = 1', 'betaA = 1', 'betaU = 3', 'lamb = 1'],\n",
      " 'rules': ['AS -> US @ delta',\n",
      "           'AI -> AS @ mu',\n",
      "           'AS =1 AI -> AI =1 AI @ betaA',\n",
      "           'US =1 AI -> AI =1 AI @ betaU',\n",
      "           'US =2 AI -> AS =2 AI @ lamb',\n",
      "           'US =2 AS -> AS =2 AS @ lamb'],\n",
      " 'simOptions': ['n = 1000', 't = 30'],\n",
      " 'states': ['AS', 'AI', 'US'],\n",
      " 'views': ['AI', 'AS', 'US']}\n"
     ]
    }
   ],
   "source": [
    "language = parser.parse_language_file('toy-example.mln')\n",
    "pprint(language)"
   ]
  },
  {
   "cell_type": "code",
   "execution_count": null,
   "id": "22ef7ca9-9049-47d3-b335-52ca964c1164",
   "metadata": {},
   "outputs": [],
   "source": []
  },
  {
   "cell_type": "code",
   "execution_count": null,
   "id": "001bc477-1a6f-4f42-9f81-5f800bbc77ed",
   "metadata": {},
   "outputs": [],
   "source": []
  },
  {
   "cell_type": "code",
   "execution_count": 4,
   "id": "810b134e-20a6-4293-9048-8d0548835c6b",
   "metadata": {},
   "outputs": [
    {
     "name": "stdout",
     "output_type": "stream",
     "text": [
      "Parsing network configuration file network-four-nodes.txt\n",
      "Parsing MLN language file toy-example-four-nodes.mln\n"
     ]
    }
   ],
   "source": [
    "mln_data_4 = parser.parse_mln('network-four-nodes.txt')\n",
    "language_4 = parser.parse_language_file('toy-example-four-nodes.mln')"
   ]
  },
  {
   "cell_type": "code",
   "execution_count": 5,
   "id": "895feb3c-f489-45cc-8887-929581c8aa6b",
   "metadata": {},
   "outputs": [
    {
     "name": "stdout",
     "output_type": "stream",
     "text": [
      "{'actors': (['1', '2', '3', '4'], 4),\n",
      " 'edges': ({'dir': [False,\n",
      "                    False,\n",
      "                    False,\n",
      "                    False,\n",
      "                    False,\n",
      "                    False,\n",
      "                    False,\n",
      "                    False,\n",
      "                    False],\n",
      "            'from_actor': ['1', '1', '1', '1', '1', '1', '2', '2', '3'],\n",
      "            'from_layer': ['1', '1', '1', '2', '2', '2', '2', '2', '2'],\n",
      "            'to_actor': ['2', '3', '4', '2', '3', '4', '3', '4', '4'],\n",
      "            'to_layer': ['1', '1', '1', '2', '2', '2', '2', '2', '2']},\n",
      "           [[('1', '2'),\n",
      "             ('2', '1'),\n",
      "             ('1', '3'),\n",
      "             ('3', '1'),\n",
      "             ('1', '4'),\n",
      "             ('4', '1')],\n",
      "            [('1', '2'),\n",
      "             ('2', '1'),\n",
      "             ('1', '3'),\n",
      "             ('3', '1'),\n",
      "             ('1', '4'),\n",
      "             ('4', '1'),\n",
      "             ('2', '3'),\n",
      "             ('3', '2'),\n",
      "             ('2', '4'),\n",
      "             ('4', '2'),\n",
      "             ('3', '4'),\n",
      "             ('4', '3')]]),\n",
      " 'layers': (['1', '2'], 2)}\n"
     ]
    }
   ],
   "source": [
    "pprint(mln_data_4)"
   ]
  },
  {
   "cell_type": "code",
   "execution_count": 6,
   "id": "7490592f-f9f2-47e5-9911-3258763317e7",
   "metadata": {},
   "outputs": [
    {
     "name": "stdout",
     "output_type": "stream",
     "text": [
      "{'initial conditions': ['1 = AI', '2 = US', '3 = US', '4 = US'],\n",
      " 'parameters': ['delta = 1', 'mu = 1', 'betaA = 1', 'betaU = 3', 'lamb = 1'],\n",
      " 'rules': ['AS -> US @ delta',\n",
      "           'AI -> AS @ mu',\n",
      "           'AS =1 AI -> AI =1 AI @ betaA',\n",
      "           'US =1 AI -> AI =1 AI @ betaU',\n",
      "           'US =2 AI -> AS =2 AI @ lamb',\n",
      "           'US =2 AS -> AS =2 AS @ lamb'],\n",
      " 'simOptions': ['n = 1000', 't = 80'],\n",
      " 'states': ['AS', 'AI', 'US'],\n",
      " 'views': ['AI', 'AS', 'US']}\n"
     ]
    }
   ],
   "source": [
    "pprint(language_4)"
   ]
  },
  {
   "cell_type": "code",
   "execution_count": null,
   "id": "d8eb7da7-3fa6-4ed7-8a77-4f348d95e51c",
   "metadata": {},
   "outputs": [],
   "source": []
  }
 ],
 "metadata": {
  "kernelspec": {
   "display_name": "py39",
   "language": "python",
   "name": "py39"
  },
  "language_info": {
   "codemirror_mode": {
    "name": "ipython",
    "version": 3
   },
   "file_extension": ".py",
   "mimetype": "text/x-python",
   "name": "python",
   "nbconvert_exporter": "python",
   "pygments_lexer": "ipython3",
   "version": "3.9.5"
  }
 },
 "nbformat": 4,
 "nbformat_minor": 5
}
